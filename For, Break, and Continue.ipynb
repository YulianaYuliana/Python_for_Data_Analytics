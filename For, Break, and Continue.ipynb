{
 "cells": [
  {
   "cell_type": "markdown",
   "id": "3ac76ab0",
   "metadata": {},
   "source": [
    "#### Else after For\n",
    "\n",
    "The else function after for is the priority function in search loops - to provide a program exit when the search is not found.\n"
   ]
  },
  {
   "cell_type": "code",
   "execution_count": 1,
   "id": "35870329",
   "metadata": {},
   "outputs": [
    {
     "name": "stdout",
     "output_type": "stream",
     "text": [
      "1 adalah bukan genap\n",
      "2 adalah genap\n",
      "3 adalah bukan genap\n",
      "4 adalah genap\n",
      "5 adalah bukan genap\n",
      "6 adalah genap\n"
     ]
    }
   ],
   "source": [
    "for i in range(1,7):\n",
    "    if i % 2 == 0:\n",
    "        print(\"{} adalah genap\".format(i))\n",
    "    else:\n",
    "        print(\"{} adalah bukan genap\".format(i))"
   ]
  },
  {
   "cell_type": "code",
   "execution_count": 1,
   "id": "398cc1a2",
   "metadata": {},
   "outputs": [
    {
     "name": "stdout",
     "output_type": "stream",
     "text": [
      "1 adalah angka ganjil\n",
      "1 lebih kecil dari 3\n",
      "2 adalah angka genap\n",
      "2 lebih kecil dari 3\n",
      "3 adalah angka ganjil\n",
      "3 sama dengan 3\n",
      "Selesai\n"
     ]
    }
   ],
   "source": [
    "angka = [1, 2, 3]\n",
    "\n",
    "for item in angka:\n",
    "    if item % 2 == 0:\n",
    "        print(f\"{item} adalah angka genap\")\n",
    "    else:\n",
    "        print(f\"{item} adalah angka ganjil\")\n",
    "\n",
    "    if item > 3:\n",
    "        print(f\"{item} lebih besar dari 3\")\n",
    "    elif item == 3:\n",
    "        print(f\"{item} sama dengan 3\")\n",
    "    else:\n",
    "        print(f\"{item} lebih kecil dari 3\")\n",
    "\n",
    "print(\"Selesai\")"
   ]
  },
  {
   "cell_type": "markdown",
   "id": "15ba5e36",
   "metadata": {},
   "source": [
    "#### Break\n",
    "- The break statement stops the loop and then exits, followed by executing the statement after the loop block\n",
    "- If you have a nested loop, break will stop the loop according to which level or loop it is in\n",
    "- But if it is placed in a second depth loop for example, only that loop stops, not the main loop"
   ]
  },
  {
   "cell_type": "code",
   "execution_count": 4,
   "id": "e32fc85c",
   "metadata": {},
   "outputs": [
    {
     "name": "stdout",
     "output_type": "stream",
     "text": [
      "D\n",
      "a\n",
      "t\n",
      "a\n"
     ]
    }
   ],
   "source": [
    "for i in \"Data Science\":\n",
    "    if i == \" \":\n",
    "        break\n",
    "    print(i)"
   ]
  },
  {
   "cell_type": "markdown",
   "id": "4a9cadb3",
   "metadata": {},
   "source": [
    "Task 2"
   ]
  },
  {
   "cell_type": "code",
   "execution_count": 6,
   "id": "36d1ce50",
   "metadata": {},
   "outputs": [
    {
     "name": "stdout",
     "output_type": "stream",
     "text": [
      "1 bukan angka yang dicari.\n",
      "2 bukan angka yang dicari.\n",
      "Angka 3 ditemukan dalam daftar.\n"
     ]
    }
   ],
   "source": [
    "for i in (Dana Analyst)"
   ]
  },
  {
   "cell_type": "markdown",
   "id": "60706e7a",
   "metadata": {},
   "source": [
    "#### Continue\n",
    "- The continue statement will make the current iteration stop\n",
    "- Then proceed to the next iteration\n",
    "- Ignore statements that are between continue and the end of the loop block"
   ]
  },
  {
   "cell_type": "code",
   "execution_count": 7,
   "id": "b0c4feeb",
   "metadata": {},
   "outputs": [
    {
     "name": "stdout",
     "output_type": "stream",
     "text": [
      "D\n",
      "t\n",
      " \n",
      "n\n",
      "l\n",
      "y\n",
      "s\n",
      "i\n",
      "s\n"
     ]
    }
   ],
   "source": [
    "for i in \"Data analysis\":\n",
    "    if i == \"a\":\n",
    "        continue\n",
    "    print(i)"
   ]
  },
  {
   "cell_type": "markdown",
   "id": "7653df79",
   "metadata": {},
   "source": [
    "#### Task 3\n",
    "Make:\n",
    "- for loop\n",
    "- condition: if, else\n",
    "- continue\n",
    "- break"
   ]
  },
  {
   "cell_type": "code",
   "execution_count": null,
   "id": "ef922608",
   "metadata": {},
   "outputs": [],
   "source": [
    "for angka in range (1, 2, 3, 3, 4, 4, 5, 5, 8, 10):\n",
    "    if angka == 3:\n",
    "        continue\n",
    "    elif angka == 5:\n",
    "        break\n",
    "print(angka)"
   ]
  },
  {
   "cell_type": "code",
   "execution_count": 18,
   "id": "e41eb3a1",
   "metadata": {},
   "outputs": [
    {
     "name": "stdout",
     "output_type": "stream",
     "text": [
      "1\n",
      "2\n",
      "3\n",
      "4\n",
      "Dijumpai bilangan habis dibagi 5 tetapi tidak habis dibagi 3\n",
      "6\n",
      "7\n",
      "8\n",
      "9\n",
      "Dijumpai bilangan habis dibagi 5 tetapi tidak habis dibagi 3\n",
      "11\n",
      "12\n",
      "13\n",
      "14\n",
      "Dijumpai bilangan habis dibagi 3 dan 5\n"
     ]
    }
   ],
   "source": [
    "for nomor in range(1, 21):\n",
    "    if nomor %5 == 0:\n",
    "        if nomor %3 == 0:\n",
    "            print(\"Dijumpai bilangan habis dibagi 3 dan 5\")\n",
    "            break\n",
    "        else:\n",
    "            print(\"Dijumpai bilangan habis dibagi 5 tetapi tidak habis dibagi 3\")\n",
    "            continue\n",
    "    print(nomor)"
   ]
  },
  {
   "cell_type": "code",
   "execution_count": null,
   "id": "bd237fbb",
   "metadata": {},
   "outputs": [],
   "source": []
  }
 ],
 "metadata": {
  "kernelspec": {
   "display_name": "Python 3 (ipykernel)",
   "language": "python",
   "name": "python3"
  },
  "language_info": {
   "codemirror_mode": {
    "name": "ipython",
    "version": 3
   },
   "file_extension": ".py",
   "mimetype": "text/x-python",
   "name": "python",
   "nbconvert_exporter": "python",
   "pygments_lexer": "ipython3",
   "version": "3.11.4"
  }
 },
 "nbformat": 4,
 "nbformat_minor": 5
}
